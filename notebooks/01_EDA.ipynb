{
 "cells": [
  {
   "cell_type": "markdown",
   "id": "313d90e6",
   "metadata": {},
   "source": [
    "# Case 2 - FraudTransactions"
   ]
  },
  {
   "cell_type": "markdown",
   "id": "028553bd",
   "metadata": {},
   "source": [
    "- Jose Abal Caamaaño\n",
    "- Jesús Platero Acevedo"
   ]
  },
  {
   "cell_type": "markdown",
   "id": "ce8f2033",
   "metadata": {},
   "source": [
    "In this case, we will study a dataset to determinate if it was produced fraud or not. In the first step we will do an **exploratory data analysis (EDA)**, secondary, we will do the **preprocessed of our dataset** and in last, will **create the models**. Once chosen the best, we will optimized it. "
   ]
  },
  {
   "cell_type": "markdown",
   "id": "74cbbe1e",
   "metadata": {},
   "source": [
    "# Index:\n",
    "\n",
    "## 1. Libraries\n",
    "## 2. Creation of the functions\n",
    "## 3. Read and load the data and created the data frame of fraud\n",
    "## 4. Division of our categorical and numerical variables\n",
    "## 5. Duplicate values, missing values and outliers\n",
    " - Duplicated values\n",
    " - Missing values\n",
    " - Outliers\n",
    " \n",
    "## 6. Verification of our variable target (isFraud)\n",
    "## 7. Behaviour of our variables\n",
    " - Age\n",
    " - Type\n",
    " - Device\n",
    " - Zone\n",
    " \n",
    "## 8. Study of Correlation\n",
    " - Correlation Matrix\n",
    " - Heatmap\n",
    " - Pearson\n",
    " \n",
    "## 9. Save the created dataset\n",
    "## 10. Conclusions"
   ]
  },
  {
   "cell_type": "markdown",
   "id": "deffa59a",
   "metadata": {},
   "source": [
    "## 1. Libraries "
   ]
  },
  {
   "cell_type": "code",
   "execution_count": 1,
   "id": "3de6f527",
   "metadata": {},
   "outputs": [
    {
     "name": "stderr",
     "output_type": "stream",
     "text": [
      "\n",
      "Bad key text.latex.preview in file /Users/joseabalcaamano/opt/anaconda3/envs/machineLearning/lib/python3.9/site-packages/matplotlib/mpl-data/stylelib/_classic_test.mplstyle, line 123 ('text.latex.preview : False')\n",
      "You probably need to get an updated matplotlibrc file from\n",
      "https://github.com/matplotlib/matplotlib/blob/v3.5.3/matplotlibrc.template\n",
      "or from the matplotlib source distribution\n",
      "\n",
      "Bad key mathtext.fallback_to_cm in file /Users/joseabalcaamano/opt/anaconda3/envs/machineLearning/lib/python3.9/site-packages/matplotlib/mpl-data/stylelib/_classic_test.mplstyle, line 155 ('mathtext.fallback_to_cm : True  # When True, use symbols from the Computer Modern')\n",
      "You probably need to get an updated matplotlibrc file from\n",
      "https://github.com/matplotlib/matplotlib/blob/v3.5.3/matplotlibrc.template\n",
      "or from the matplotlib source distribution\n",
      "\n",
      "Bad key savefig.jpeg_quality in file /Users/joseabalcaamano/opt/anaconda3/envs/machineLearning/lib/python3.9/site-packages/matplotlib/mpl-data/stylelib/_classic_test.mplstyle, line 418 ('savefig.jpeg_quality: 95       # when a jpeg is saved, the default quality parameter.')\n",
      "You probably need to get an updated matplotlibrc file from\n",
      "https://github.com/matplotlib/matplotlib/blob/v3.5.3/matplotlibrc.template\n",
      "or from the matplotlib source distribution\n",
      "\n",
      "Bad key keymap.all_axes in file /Users/joseabalcaamano/opt/anaconda3/envs/machineLearning/lib/python3.9/site-packages/matplotlib/mpl-data/stylelib/_classic_test.mplstyle, line 466 ('keymap.all_axes : a                 # enable all axes')\n",
      "You probably need to get an updated matplotlibrc file from\n",
      "https://github.com/matplotlib/matplotlib/blob/v3.5.3/matplotlibrc.template\n",
      "or from the matplotlib source distribution\n",
      "\n",
      "Bad key animation.avconv_path in file /Users/joseabalcaamano/opt/anaconda3/envs/machineLearning/lib/python3.9/site-packages/matplotlib/mpl-data/stylelib/_classic_test.mplstyle, line 477 ('animation.avconv_path: avconv     # Path to avconv binary. Without full path')\n",
      "You probably need to get an updated matplotlibrc file from\n",
      "https://github.com/matplotlib/matplotlib/blob/v3.5.3/matplotlibrc.template\n",
      "or from the matplotlib source distribution\n",
      "\n",
      "Bad key animation.avconv_args in file /Users/joseabalcaamano/opt/anaconda3/envs/machineLearning/lib/python3.9/site-packages/matplotlib/mpl-data/stylelib/_classic_test.mplstyle, line 479 ('animation.avconv_args:            # Additional arguments to pass to avconv')\n",
      "You probably need to get an updated matplotlibrc file from\n",
      "https://github.com/matplotlib/matplotlib/blob/v3.5.3/matplotlibrc.template\n",
      "or from the matplotlib source distribution\n"
     ]
    }
   ],
   "source": [
    "import numpy as np\n",
    "import pandas as pd\n",
    "import matplotlib.pyplot as plt\n",
    "import seaborn as sns\n",
    "import warnings\n",
    "warnings.filterwarnings(\"ignore\")"
   ]
  },
  {
   "cell_type": "markdown",
   "id": "b8a7f9f1",
   "metadata": {},
   "source": [
    "## 2. CREATION OF THE FUNCTIONS"
   ]
  },
  {
   "cell_type": "code",
   "execution_count": 2,
   "id": "9d2b4b47",
   "metadata": {},
   "outputs": [],
   "source": [
    "#This function is to give support to do plots of the differents variables inside the dataset to compare our \n",
    "#target variable with the others\n",
    "\n",
    "def plot_feature(df, col_name, isContinuous, target):\n",
    "    \"\"\"\n",
    "    Visualize a variable with and without faceting on the loan status.\n",
    "    - df dataframe\n",
    "    - col_name is the variable name in the dataframe\n",
    "    - full_name is the full variable name\n",
    "    - continuous is True if the variable is continuous, False otherwise\n",
    "    \"\"\"\n",
    "    f, (ax1, ax2) = plt.subplots(nrows=1, ncols=2, figsize=(12,3), dpi=90)\n",
    "    \n",
    "    count_null = df[col_name].isnull().sum()\n",
    "    if isContinuous:\n",
    "        \n",
    "        sns.histplot(df.loc[df[col_name].notnull(), col_name], kde=False, ax=ax1)\n",
    "    else:\n",
    "        sns.countplot(df[col_name], order=sorted(df[col_name].unique()), color='#5975A4', saturation=1, ax=ax1)\n",
    "    ax1.set_xlabel(col_name)\n",
    "    ax1.set_ylabel('Count')\n",
    "    ax1.set_title(col_name+ ' Numero de nulos: '+str(count_null))\n",
    "    plt.xticks(rotation = 90)\n",
    "\n",
    "\n",
    "    if isContinuous:\n",
    "        sns.boxplot(x=col_name, y=target, data=df, ax=ax2)\n",
    "        ax2.set_ylabel('')\n",
    "        ax2.set_title(col_name + ' by '+target)\n",
    "    else:\n",
    "        data = df.groupby(col_name)[target].value_counts(normalize=True).to_frame('proportion').reset_index() \n",
    "        data.columns = [i, target, 'proportion']\n",
    "        #sns.barplot(x = col_name, y = 'proportion', hue= target, data = data, saturation=1, ax=ax2)\n",
    "        sns.barplot(x = col_name, y = 'proportion', hue= target, data = data, saturation=1, ax=ax2)\n",
    "        ax2.set_ylabel(target+' fraction')\n",
    "        ax2.set_title(target)\n",
    "        plt.xticks(rotation = 90)\n",
    "    ax2.set_xlabel(col_name)\n",
    "    \n",
    "    plt.tight_layout()\n",
    "    \n",
    "#This function is to identify the categorical variables and put it inside a list. With the numerical variables is\n",
    "#the same form but in other list.\n",
    "def give_categorical_variables(dataset=None):\n",
    "    if dataset is None:\n",
    "        print(u'\\nNeed arguments in the function')\n",
    "        return 1\n",
    "    list_categorical_variables = []\n",
    "    other = []\n",
    "    for i in dataset.columns:\n",
    "        if (dataset[i].dtype!=float) & (dataset[i].dtype!=int):\n",
    "            unicos = int(len(np.unique(dataset[i].dropna(axis=0, how='all'))))\n",
    "            if unicos < 100:\n",
    "                list_categorical_variables.append(i)\n",
    "            else:\n",
    "                other.append(i)\n",
    "\n",
    "    return list_categorical_variables, other\n",
    "\n",
    "def get_deviation_of_mean_perc(pd_data, list_numerical_variables, target, multiplier):\n",
    "    \"\"\"\n",
    "    Return the percentage of the values out of the confidence interval \n",
    "    :type series:\n",
    "    :param multiplier:\n",
    "    :return:\n",
    "    \"\"\"\n",
    "    pd_final = pd.DataFrame()\n",
    "    \n",
    "    for i in list_numerical_variables:\n",
    "        \n",
    "        series_mean = pd_data[i].mean()\n",
    "        series_std = pd_data[i].std()\n",
    "        std_amp = multiplier * series_std\n",
    "        left = series_mean - std_amp\n",
    "        right = series_mean + std_amp\n",
    "        size_s = pd_data[i].size\n",
    "        \n",
    "        perc_goods = pd_data[i][(pd_data[i] >= left) & (pd_data[i] <= right)].size/size_s\n",
    "        perc_excess = pd_data[i][(pd_data[i] < left) | (pd_data[i] > right)].size/size_s\n",
    "        \n",
    "        if perc_excess>0:    \n",
    "            pd_concat_percent = pd.DataFrame(pd_data[target][(pd_data[i] < left) | (pd_data[i] > right)]\\\n",
    "                                            .value_counts(normalize=True).reset_index()).T\n",
    "            pd_concat_percent.columns = [pd_concat_percent.iloc[0:], \n",
    "                                          pd_concat_percent.iloc[0:]]\n",
    "            pd_concat_percent = pd_concat_percent.drop('index',axis=0)\n",
    "            pd_concat_percent['variable'] = i\n",
    "            pd_concat_percent['sum_outlier_values'] = pd_data[i][(pd_data[i] < left) | (pd_data[i] > right)].size\n",
    "            pd_concat_percent['porcentaje_sum_null_values'] = perc_excess\n",
    "            pd_final = pd.concat([pd_final, pd_concat_percent], axis=0).reset_index(drop=True)\n",
    "            \n",
    "    if pd_final.empty:\n",
    "        print('Not exists variables with null values')\n",
    "        \n",
    "    return pd_final\n",
    "\n",
    "\n",
    "def get_corr_matrix(dataset = None, metodo='pearson', size_figure=[10,8]):\n",
    "    #To obtain Spearman correlation \n",
    "\n",
    "    if dataset is None:\n",
    "        print(u'\\nHace falta pasar argumentos a la función')\n",
    "        return 1\n",
    "    sns.set(style=\"white\")\n",
    "    # Compute the correlation matrix\n",
    "    corr = dataset.corr(method=metodo) \n",
    "    # Set self-correlation to zero to avoid distraction\n",
    "    for i in range(corr.shape[0]):\n",
    "        corr.iloc[i, i] = 0\n",
    "    # Set up the matplotlib figure\n",
    "    f, ax = plt.subplots(figsize=size_figure)\n",
    "    # Draw the heatmap with the mask and correct aspect ratio\n",
    "    sns.heatmap(corr, center=0,\n",
    "                square=True, linewidths=.5,  cmap ='viridis' ) #cbar_kws={\"shrink\": .5}\n",
    "    plt.show()\n",
    "    \n",
    "    return 0\n"
   ]
  },
  {
   "cell_type": "markdown",
   "id": "6b845223",
   "metadata": {},
   "source": [
    "## 3. Read and load the data and created the data frame of fraud"
   ]
  },
  {
   "cell_type": "code",
   "execution_count": 3,
   "id": "adef0515",
   "metadata": {},
   "outputs": [],
   "source": [
    "ruta = '../data/raw/Copia de Original_dataset_payments_fraud.csv'\n",
    "set_seed = '12345'"
   ]
  },
  {
   "cell_type": "code",
   "execution_count": 33,
   "id": "3a1eedfe",
   "metadata": {},
   "outputs": [
    {
     "data": {
      "text/html": [
       "<div>\n",
       "<style scoped>\n",
       "    .dataframe tbody tr th:only-of-type {\n",
       "        vertical-align: middle;\n",
       "    }\n",
       "\n",
       "    .dataframe tbody tr th {\n",
       "        vertical-align: top;\n",
       "    }\n",
       "\n",
       "    .dataframe thead th {\n",
       "        text-align: right;\n",
       "    }\n",
       "</style>\n",
       "<table border=\"1\" class=\"dataframe\">\n",
       "  <thead>\n",
       "    <tr style=\"text-align: right;\">\n",
       "      <th></th>\n",
       "      <th>step</th>\n",
       "      <th>type</th>\n",
       "      <th>amount</th>\n",
       "      <th>gender</th>\n",
       "      <th>device</th>\n",
       "      <th>connection_time</th>\n",
       "      <th>nameOrig</th>\n",
       "      <th>race</th>\n",
       "      <th>oldbalanceOrg</th>\n",
       "      <th>age</th>\n",
       "      <th>newbalanceOrig</th>\n",
       "      <th>zone</th>\n",
       "      <th>user_number</th>\n",
       "      <th>nameDest</th>\n",
       "      <th>user_connections</th>\n",
       "      <th>security_alert</th>\n",
       "      <th>oldbalanceDest</th>\n",
       "      <th>newbalanceDest</th>\n",
       "      <th>isFraud</th>\n",
       "    </tr>\n",
       "  </thead>\n",
       "  <tbody>\n",
       "    <tr>\n",
       "      <th>0</th>\n",
       "      <td>1</td>\n",
       "      <td>PAYMENT</td>\n",
       "      <td>9839.64</td>\n",
       "      <td>man</td>\n",
       "      <td>mac</td>\n",
       "      <td>0.140039</td>\n",
       "      <td>C1231006815</td>\n",
       "      <td>black</td>\n",
       "      <td>170136.0</td>\n",
       "      <td>85</td>\n",
       "      <td>160296.36</td>\n",
       "      <td>capital</td>\n",
       "      <td>138</td>\n",
       "      <td>M1979787155</td>\n",
       "      <td>5</td>\n",
       "      <td>1</td>\n",
       "      <td>0.0</td>\n",
       "      <td>0.0</td>\n",
       "      <td>0</td>\n",
       "    </tr>\n",
       "    <tr>\n",
       "      <th>1</th>\n",
       "      <td>1</td>\n",
       "      <td>PAYMENT</td>\n",
       "      <td>1864.28</td>\n",
       "      <td>woman</td>\n",
       "      <td>mac</td>\n",
       "      <td>0.496890</td>\n",
       "      <td>C1666544295</td>\n",
       "      <td>asian</td>\n",
       "      <td>21249.0</td>\n",
       "      <td>57</td>\n",
       "      <td>19384.72</td>\n",
       "      <td>country</td>\n",
       "      <td>909</td>\n",
       "      <td>M2044282225</td>\n",
       "      <td>1</td>\n",
       "      <td>0</td>\n",
       "      <td>0.0</td>\n",
       "      <td>0.0</td>\n",
       "      <td>0</td>\n",
       "    </tr>\n",
       "    <tr>\n",
       "      <th>2</th>\n",
       "      <td>1</td>\n",
       "      <td>TRANSFER</td>\n",
       "      <td>181.00</td>\n",
       "      <td>man</td>\n",
       "      <td>pc</td>\n",
       "      <td>0.781150</td>\n",
       "      <td>C1305486145</td>\n",
       "      <td>asian</td>\n",
       "      <td>181.0</td>\n",
       "      <td>66</td>\n",
       "      <td>0.00</td>\n",
       "      <td>capital</td>\n",
       "      <td>2569</td>\n",
       "      <td>C553264065</td>\n",
       "      <td>10</td>\n",
       "      <td>0</td>\n",
       "      <td>0.0</td>\n",
       "      <td>0.0</td>\n",
       "      <td>1</td>\n",
       "    </tr>\n",
       "    <tr>\n",
       "      <th>3</th>\n",
       "      <td>1</td>\n",
       "      <td>CASH_OUT</td>\n",
       "      <td>181.00</td>\n",
       "      <td>man</td>\n",
       "      <td>mac</td>\n",
       "      <td>0.565068</td>\n",
       "      <td>C840083671</td>\n",
       "      <td>black</td>\n",
       "      <td>181.0</td>\n",
       "      <td>31</td>\n",
       "      <td>0.00</td>\n",
       "      <td>country</td>\n",
       "      <td>1787</td>\n",
       "      <td>C38997010</td>\n",
       "      <td>3</td>\n",
       "      <td>0</td>\n",
       "      <td>21182.0</td>\n",
       "      <td>0.0</td>\n",
       "      <td>1</td>\n",
       "    </tr>\n",
       "    <tr>\n",
       "      <th>4</th>\n",
       "      <td>1</td>\n",
       "      <td>PAYMENT</td>\n",
       "      <td>11668.14</td>\n",
       "      <td>unknow</td>\n",
       "      <td>mac</td>\n",
       "      <td>0.517114</td>\n",
       "      <td>C2048537720</td>\n",
       "      <td>black</td>\n",
       "      <td>41554.0</td>\n",
       "      <td>90</td>\n",
       "      <td>29885.86</td>\n",
       "      <td>country</td>\n",
       "      <td>3997</td>\n",
       "      <td>M1230701703</td>\n",
       "      <td>8</td>\n",
       "      <td>0</td>\n",
       "      <td>0.0</td>\n",
       "      <td>0.0</td>\n",
       "      <td>0</td>\n",
       "    </tr>\n",
       "  </tbody>\n",
       "</table>\n",
       "</div>"
      ],
      "text/plain": [
       "   step      type    amount  gender device  connection_time     nameOrig  \\\n",
       "0     1   PAYMENT   9839.64     man    mac         0.140039  C1231006815   \n",
       "1     1   PAYMENT   1864.28   woman    mac         0.496890  C1666544295   \n",
       "2     1  TRANSFER    181.00     man     pc         0.781150  C1305486145   \n",
       "3     1  CASH_OUT    181.00     man    mac         0.565068   C840083671   \n",
       "4     1   PAYMENT  11668.14  unknow    mac         0.517114  C2048537720   \n",
       "\n",
       "    race  oldbalanceOrg  age  newbalanceOrig     zone  user_number  \\\n",
       "0  black       170136.0   85       160296.36  capital          138   \n",
       "1  asian        21249.0   57        19384.72  country          909   \n",
       "2  asian          181.0   66            0.00  capital         2569   \n",
       "3  black          181.0   31            0.00  country         1787   \n",
       "4  black        41554.0   90        29885.86  country         3997   \n",
       "\n",
       "      nameDest  user_connections  security_alert  oldbalanceDest  \\\n",
       "0  M1979787155                 5               1             0.0   \n",
       "1  M2044282225                 1               0             0.0   \n",
       "2   C553264065                10               0             0.0   \n",
       "3    C38997010                 3               0         21182.0   \n",
       "4  M1230701703                 8               0             0.0   \n",
       "\n",
       "   newbalanceDest  isFraud  \n",
       "0             0.0        0  \n",
       "1             0.0        0  \n",
       "2             0.0        1  \n",
       "3             0.0        1  \n",
       "4             0.0        0  "
      ]
     },
     "execution_count": 33,
     "metadata": {},
     "output_type": "execute_result"
    }
   ],
   "source": [
    "data = (pd.read_csv(ruta, sep = ';')\n",
    "        .assign(**{'connection_time': lambda df: df['connection_time'].str.replace(',', '.').astype(float)})\n",
    ")\n",
    "data.head()"
   ]
  },
  {
   "cell_type": "markdown",
   "id": "fcef0b53",
   "metadata": {},
   "source": [
    "Our target variable is the last column, isFraud."
   ]
  },
  {
   "cell_type": "code",
   "execution_count": 5,
   "id": "74b1a36b",
   "metadata": {},
   "outputs": [
    {
     "data": {
      "text/plain": [
       "(1048575, 19)"
      ]
     },
     "execution_count": 5,
     "metadata": {},
     "output_type": "execute_result"
    }
   ],
   "source": [
    "#Comprobate the rows and columns in our dataset \n",
    "data.shape"
   ]
  },
  {
   "cell_type": "code",
   "execution_count": 6,
   "id": "ae1b03a0",
   "metadata": {},
   "outputs": [
    {
     "name": "stdout",
     "output_type": "stream",
     "text": [
      "<class 'pandas.core.frame.DataFrame'>\n",
      "RangeIndex: 1048575 entries, 0 to 1048574\n",
      "Data columns (total 19 columns):\n",
      " #   Column            Non-Null Count    Dtype  \n",
      "---  ------            --------------    -----  \n",
      " 0   step              1048575 non-null  int64  \n",
      " 1   type              1048575 non-null  object \n",
      " 2   amount            1048575 non-null  float64\n",
      " 3   gender            943457 non-null   object \n",
      " 4   device            943995 non-null   object \n",
      " 5   connection_time   1048575 non-null  float64\n",
      " 6   nameOrig          1048575 non-null  object \n",
      " 7   race              943412 non-null   object \n",
      " 8   oldbalanceOrg     1048575 non-null  float64\n",
      " 9   age               1048575 non-null  int64  \n",
      " 10  newbalanceOrig    1048575 non-null  float64\n",
      " 11  zone              944161 non-null   object \n",
      " 12  user_number       1048575 non-null  int64  \n",
      " 13  nameDest          1048575 non-null  object \n",
      " 14  user_connections  1048575 non-null  int64  \n",
      " 15  security_alert    1048575 non-null  int64  \n",
      " 16  oldbalanceDest    1048575 non-null  float64\n",
      " 17  newbalanceDest    1048575 non-null  float64\n",
      " 18  isFraud           1048575 non-null  int64  \n",
      "dtypes: float64(6), int64(6), object(7)\n",
      "memory usage: 152.0+ MB\n"
     ]
    }
   ],
   "source": [
    "data.info()"
   ]
  },
  {
   "cell_type": "code",
   "execution_count": 7,
   "id": "69bb818a",
   "metadata": {},
   "outputs": [
    {
     "data": {
      "text/html": [
       "<div>\n",
       "<style scoped>\n",
       "    .dataframe tbody tr th:only-of-type {\n",
       "        vertical-align: middle;\n",
       "    }\n",
       "\n",
       "    .dataframe tbody tr th {\n",
       "        vertical-align: top;\n",
       "    }\n",
       "\n",
       "    .dataframe thead th {\n",
       "        text-align: right;\n",
       "    }\n",
       "</style>\n",
       "<table border=\"1\" class=\"dataframe\">\n",
       "  <thead>\n",
       "    <tr style=\"text-align: right;\">\n",
       "      <th></th>\n",
       "      <th>Type_variable</th>\n",
       "      <th>count</th>\n",
       "    </tr>\n",
       "  </thead>\n",
       "  <tbody>\n",
       "    <tr>\n",
       "      <th>0</th>\n",
       "      <td>int64</td>\n",
       "      <td>6</td>\n",
       "    </tr>\n",
       "    <tr>\n",
       "      <th>1</th>\n",
       "      <td>float64</td>\n",
       "      <td>6</td>\n",
       "    </tr>\n",
       "    <tr>\n",
       "      <th>2</th>\n",
       "      <td>object</td>\n",
       "      <td>7</td>\n",
       "    </tr>\n",
       "  </tbody>\n",
       "</table>\n",
       "</div>"
      ],
      "text/plain": [
       "  Type_variable  count\n",
       "0         int64      6\n",
       "1       float64      6\n",
       "2        object      7"
      ]
     },
     "execution_count": 7,
     "metadata": {},
     "output_type": "execute_result"
    }
   ],
   "source": [
    "#Type of the variables in our dataset\n",
    "data.dtypes.sort_values().to_frame(\"Type_variable\").groupby(by=\"Type_variable\").size().to_frame('count').reset_index()"
   ]
  },
  {
   "cell_type": "markdown",
   "id": "4b8db3c7",
   "metadata": {},
   "source": [
    "From all variables in our dataset, we can observe that exists **6 int variables**, **6 float variables** and **7 object variables**."
   ]
  },
  {
   "cell_type": "markdown",
   "id": "c72a298f",
   "metadata": {},
   "source": [
    "## 4. Division of our categorical and numerical variables"
   ]
  },
  {
   "cell_type": "code",
   "execution_count": 8,
   "id": "1ae4f91c",
   "metadata": {},
   "outputs": [],
   "source": [
    "categorical_variables = data[[\"type\", \"device\", \"zone\", \n",
    "                              \"security_alert\", \"isFraud\"]].astype(str).reset_index()\n",
    "\n",
    "numerical_variables = data [[\"step\", \"amount\", \"connection_time\", \n",
    "                             \"oldbalanceOrg\",\"age\", \"newbalanceOrig\", \"user_number\", \n",
    "                             \"user_connections\", \"oldbalanceDest\", \"newbalanceDest\"]].astype(float).reset_index()"
   ]
  },
  {
   "cell_type": "code",
   "execution_count": 9,
   "id": "9ad0b9fc",
   "metadata": {},
   "outputs": [
    {
     "name": "stdout",
     "output_type": "stream",
     "text": [
      "<class 'pandas.core.frame.DataFrame'>\n",
      "RangeIndex: 1048575 entries, 0 to 1048574\n",
      "Data columns (total 6 columns):\n",
      " #   Column          Non-Null Count    Dtype \n",
      "---  ------          --------------    ----- \n",
      " 0   index           1048575 non-null  int64 \n",
      " 1   type            1048575 non-null  object\n",
      " 2   device          1048575 non-null  object\n",
      " 3   zone            1048575 non-null  object\n",
      " 4   security_alert  1048575 non-null  object\n",
      " 5   isFraud         1048575 non-null  object\n",
      "dtypes: int64(1), object(5)\n",
      "memory usage: 48.0+ MB\n",
      "<class 'pandas.core.frame.DataFrame'>\n",
      "RangeIndex: 1048575 entries, 0 to 1048574\n",
      "Data columns (total 11 columns):\n",
      " #   Column            Non-Null Count    Dtype  \n",
      "---  ------            --------------    -----  \n",
      " 0   index             1048575 non-null  int64  \n",
      " 1   step              1048575 non-null  float64\n",
      " 2   amount            1048575 non-null  float64\n",
      " 3   connection_time   1048575 non-null  float64\n",
      " 4   oldbalanceOrg     1048575 non-null  float64\n",
      " 5   age               1048575 non-null  float64\n",
      " 6   newbalanceOrig    1048575 non-null  float64\n",
      " 7   user_number       1048575 non-null  float64\n",
      " 8   user_connections  1048575 non-null  float64\n",
      " 9   oldbalanceDest    1048575 non-null  float64\n",
      " 10  newbalanceDest    1048575 non-null  float64\n",
      "dtypes: float64(10), int64(1)\n",
      "memory usage: 88.0 MB\n"
     ]
    }
   ],
   "source": [
    "#We check if we made correctly the separation of the variables\n",
    "categorical_variables.info()\n",
    "\n",
    "numerical_variables.info()"
   ]
  },
  {
   "cell_type": "code",
   "execution_count": 10,
   "id": "0a22aa71",
   "metadata": {},
   "outputs": [
    {
     "data": {
      "text/plain": [
       "step                   int64\n",
       "type                category\n",
       "amount               float64\n",
       "gender              category\n",
       "device              category\n",
       "connection_time      float64\n",
       "nameOrig              object\n",
       "race                category\n",
       "oldbalanceOrg        float64\n",
       "age                    int64\n",
       "newbalanceOrig       float64\n",
       "zone                category\n",
       "user_number            int64\n",
       "nameDest              object\n",
       "user_connections       int64\n",
       "security_alert         int64\n",
       "oldbalanceDest       float64\n",
       "newbalanceDest       float64\n",
       "isFraud                int64\n",
       "dtype: object"
      ]
     },
     "execution_count": 10,
     "metadata": {},
     "output_type": "execute_result"
    }
   ],
   "source": [
    "#Visualization the list with the variables modificated\n",
    "list_categorical_variables, other = give_categorical_variables(dataset = data)\n",
    "data[list_categorical_variables] = data[list_categorical_variables].astype(\"category\")\n",
    "list_numerical_variables = list(data.select_dtypes(\"float\").columns)\n",
    "data[list_numerical_variables] = data[list_numerical_variables].astype(float)\n",
    "data.dtypes"
   ]
  },
  {
   "cell_type": "markdown",
   "id": "d59f693e",
   "metadata": {},
   "source": [
    "## 5. Duplicate values, missing values and outliers"
   ]
  },
  {
   "cell_type": "markdown",
   "id": "54bf236c",
   "metadata": {},
   "source": [
    "### -Duplicated Values"
   ]
  },
  {
   "cell_type": "code",
   "execution_count": 11,
   "id": "c9900d98",
   "metadata": {},
   "outputs": [
    {
     "name": "stdout",
     "output_type": "stream",
     "text": [
      "(1048575, 19) (1048575, 19)\n"
     ]
    },
    {
     "data": {
      "text/plain": [
       "0"
      ]
     },
     "execution_count": 11,
     "metadata": {},
     "output_type": "execute_result"
    }
   ],
   "source": [
    "#Observe if there are duplicates in our dataset \n",
    "print(data.shape, data.drop_duplicates().shape)\n",
    "data.duplicated().sum()"
   ]
  },
  {
   "cell_type": "markdown",
   "id": "833dd19e",
   "metadata": {},
   "source": [
    "After the comprobation, we haven´t exists **duplicated values** in our dataset."
   ]
  },
  {
   "cell_type": "markdown",
   "id": "fb55fa04",
   "metadata": {},
   "source": [
    "### -Missing Values "
   ]
  },
  {
   "cell_type": "code",
   "execution_count": 12,
   "id": "34ccc3cb",
   "metadata": {},
   "outputs": [
    {
     "name": "stdout",
     "output_type": "stream",
     "text": [
      "(19,) (1048575,)\n"
     ]
    }
   ],
   "source": [
    "#Comprobate if in our dataframe exists nulls values\n",
    "data_null_columns = data.isnull().sum().sort_values(ascending=False)\n",
    "data_null_rows = data.isnull().sum(axis=1).sort_values(ascending=False)\n",
    "print(data_null_columns.shape, data_null_rows.shape)\n",
    "\n",
    "df_null_columns = pd.DataFrame(data_null_columns, columns=['nulls_columns'])     \n",
    "df_null_rows = pd.DataFrame(data_null_rows, columns=['nulls_rows'])  \n",
    "df_null_columns['percent_columns'] = df_null_columns['nulls_columns']/data.shape[0]\n",
    "df_null_rows['percent_rows']= df_null_rows['nulls_rows']/data.shape[1]"
   ]
  },
  {
   "cell_type": "code",
   "execution_count": 13,
   "id": "3308fd52",
   "metadata": {},
   "outputs": [
    {
     "data": {
      "text/html": [
       "<div>\n",
       "<style scoped>\n",
       "    .dataframe tbody tr th:only-of-type {\n",
       "        vertical-align: middle;\n",
       "    }\n",
       "\n",
       "    .dataframe tbody tr th {\n",
       "        vertical-align: top;\n",
       "    }\n",
       "\n",
       "    .dataframe thead th {\n",
       "        text-align: right;\n",
       "    }\n",
       "</style>\n",
       "<table border=\"1\" class=\"dataframe\">\n",
       "  <thead>\n",
       "    <tr style=\"text-align: right;\">\n",
       "      <th></th>\n",
       "      <th>nulls_columns</th>\n",
       "      <th>percent_columns</th>\n",
       "    </tr>\n",
       "  </thead>\n",
       "  <tbody>\n",
       "    <tr>\n",
       "      <th>race</th>\n",
       "      <td>105163</td>\n",
       "      <td>0.100291</td>\n",
       "    </tr>\n",
       "    <tr>\n",
       "      <th>gender</th>\n",
       "      <td>105118</td>\n",
       "      <td>0.100248</td>\n",
       "    </tr>\n",
       "    <tr>\n",
       "      <th>device</th>\n",
       "      <td>104580</td>\n",
       "      <td>0.099735</td>\n",
       "    </tr>\n",
       "    <tr>\n",
       "      <th>zone</th>\n",
       "      <td>104414</td>\n",
       "      <td>0.099577</td>\n",
       "    </tr>\n",
       "    <tr>\n",
       "      <th>step</th>\n",
       "      <td>0</td>\n",
       "      <td>0.000000</td>\n",
       "    </tr>\n",
       "    <tr>\n",
       "      <th>newbalanceDest</th>\n",
       "      <td>0</td>\n",
       "      <td>0.000000</td>\n",
       "    </tr>\n",
       "    <tr>\n",
       "      <th>oldbalanceDest</th>\n",
       "      <td>0</td>\n",
       "      <td>0.000000</td>\n",
       "    </tr>\n",
       "    <tr>\n",
       "      <th>security_alert</th>\n",
       "      <td>0</td>\n",
       "      <td>0.000000</td>\n",
       "    </tr>\n",
       "    <tr>\n",
       "      <th>user_connections</th>\n",
       "      <td>0</td>\n",
       "      <td>0.000000</td>\n",
       "    </tr>\n",
       "    <tr>\n",
       "      <th>nameDest</th>\n",
       "      <td>0</td>\n",
       "      <td>0.000000</td>\n",
       "    </tr>\n",
       "    <tr>\n",
       "      <th>user_number</th>\n",
       "      <td>0</td>\n",
       "      <td>0.000000</td>\n",
       "    </tr>\n",
       "    <tr>\n",
       "      <th>age</th>\n",
       "      <td>0</td>\n",
       "      <td>0.000000</td>\n",
       "    </tr>\n",
       "    <tr>\n",
       "      <th>newbalanceOrig</th>\n",
       "      <td>0</td>\n",
       "      <td>0.000000</td>\n",
       "    </tr>\n",
       "    <tr>\n",
       "      <th>type</th>\n",
       "      <td>0</td>\n",
       "      <td>0.000000</td>\n",
       "    </tr>\n",
       "    <tr>\n",
       "      <th>oldbalanceOrg</th>\n",
       "      <td>0</td>\n",
       "      <td>0.000000</td>\n",
       "    </tr>\n",
       "    <tr>\n",
       "      <th>nameOrig</th>\n",
       "      <td>0</td>\n",
       "      <td>0.000000</td>\n",
       "    </tr>\n",
       "    <tr>\n",
       "      <th>connection_time</th>\n",
       "      <td>0</td>\n",
       "      <td>0.000000</td>\n",
       "    </tr>\n",
       "    <tr>\n",
       "      <th>amount</th>\n",
       "      <td>0</td>\n",
       "      <td>0.000000</td>\n",
       "    </tr>\n",
       "    <tr>\n",
       "      <th>isFraud</th>\n",
       "      <td>0</td>\n",
       "      <td>0.000000</td>\n",
       "    </tr>\n",
       "  </tbody>\n",
       "</table>\n",
       "</div>"
      ],
      "text/plain": [
       "                  nulls_columns  percent_columns\n",
       "race                     105163         0.100291\n",
       "gender                   105118         0.100248\n",
       "device                   104580         0.099735\n",
       "zone                     104414         0.099577\n",
       "step                          0         0.000000\n",
       "newbalanceDest                0         0.000000\n",
       "oldbalanceDest                0         0.000000\n",
       "security_alert                0         0.000000\n",
       "user_connections              0         0.000000\n",
       "nameDest                      0         0.000000\n",
       "user_number                   0         0.000000\n",
       "age                           0         0.000000\n",
       "newbalanceOrig                0         0.000000\n",
       "type                          0         0.000000\n",
       "oldbalanceOrg                 0         0.000000\n",
       "nameOrig                      0         0.000000\n",
       "connection_time               0         0.000000\n",
       "amount                        0         0.000000\n",
       "isFraud                       0         0.000000"
      ]
     },
     "execution_count": 13,
     "metadata": {},
     "output_type": "execute_result"
    }
   ],
   "source": [
    "df_null_columns"
   ]
  },
  {
   "cell_type": "markdown",
   "id": "0a0e378d",
   "metadata": {},
   "source": [
    "We can observate that **exists missing values** in the columns **race**, **gender**, **device** and **zone**."
   ]
  },
  {
   "cell_type": "code",
   "execution_count": 14,
   "id": "bd941926",
   "metadata": {},
   "outputs": [
    {
     "data": {
      "text/html": [
       "<div>\n",
       "<style scoped>\n",
       "    .dataframe tbody tr th:only-of-type {\n",
       "        vertical-align: middle;\n",
       "    }\n",
       "\n",
       "    .dataframe tbody tr th {\n",
       "        vertical-align: top;\n",
       "    }\n",
       "\n",
       "    .dataframe thead th {\n",
       "        text-align: right;\n",
       "    }\n",
       "</style>\n",
       "<table border=\"1\" class=\"dataframe\">\n",
       "  <thead>\n",
       "    <tr style=\"text-align: right;\">\n",
       "      <th></th>\n",
       "      <th>nulls_rows</th>\n",
       "      <th>percent_rows</th>\n",
       "    </tr>\n",
       "  </thead>\n",
       "  <tbody>\n",
       "    <tr>\n",
       "      <th>89367</th>\n",
       "      <td>4</td>\n",
       "      <td>0.210526</td>\n",
       "    </tr>\n",
       "    <tr>\n",
       "      <th>574234</th>\n",
       "      <td>4</td>\n",
       "      <td>0.210526</td>\n",
       "    </tr>\n",
       "    <tr>\n",
       "      <th>201502</th>\n",
       "      <td>4</td>\n",
       "      <td>0.210526</td>\n",
       "    </tr>\n",
       "    <tr>\n",
       "      <th>927846</th>\n",
       "      <td>4</td>\n",
       "      <td>0.210526</td>\n",
       "    </tr>\n",
       "    <tr>\n",
       "      <th>556042</th>\n",
       "      <td>4</td>\n",
       "      <td>0.210526</td>\n",
       "    </tr>\n",
       "  </tbody>\n",
       "</table>\n",
       "</div>"
      ],
      "text/plain": [
       "        nulls_rows  percent_rows\n",
       "89367            4      0.210526\n",
       "574234           4      0.210526\n",
       "201502           4      0.210526\n",
       "927846           4      0.210526\n",
       "556042           4      0.210526"
      ]
     },
     "execution_count": 14,
     "metadata": {},
     "output_type": "execute_result"
    }
   ],
   "source": [
    "#Verification the rows with nulls\n",
    "df_null_rows.head()"
   ]
  },
  {
   "cell_type": "markdown",
   "id": "774db9ad",
   "metadata": {},
   "source": [
    "### -Outliers "
   ]
  },
  {
   "cell_type": "code",
   "execution_count": 15,
   "id": "060883fb",
   "metadata": {},
   "outputs": [
    {
     "data": {
      "text/html": [
       "<div>\n",
       "<style scoped>\n",
       "    .dataframe tbody tr th:only-of-type {\n",
       "        vertical-align: middle;\n",
       "    }\n",
       "\n",
       "    .dataframe tbody tr th {\n",
       "        vertical-align: top;\n",
       "    }\n",
       "\n",
       "    .dataframe thead tr th {\n",
       "        text-align: left;\n",
       "    }\n",
       "</style>\n",
       "<table border=\"1\" class=\"dataframe\">\n",
       "  <thead>\n",
       "    <tr>\n",
       "      <th></th>\n",
       "      <th>0</th>\n",
       "      <th>1</th>\n",
       "      <th>variable</th>\n",
       "      <th>sum_outlier_values</th>\n",
       "      <th>porcentaje_sum_null_values</th>\n",
       "    </tr>\n",
       "    <tr>\n",
       "      <th></th>\n",
       "      <th>0</th>\n",
       "      <th>1</th>\n",
       "      <th></th>\n",
       "      <th></th>\n",
       "      <th></th>\n",
       "    </tr>\n",
       "  </thead>\n",
       "  <tbody>\n",
       "    <tr>\n",
       "      <th>0</th>\n",
       "      <td>0.986908</td>\n",
       "      <td>0.013092</td>\n",
       "      <td>amount</td>\n",
       "      <td>32081</td>\n",
       "      <td>0.030595</td>\n",
       "    </tr>\n",
       "    <tr>\n",
       "      <th>1</th>\n",
       "      <td>0.998938</td>\n",
       "      <td>0.001062</td>\n",
       "      <td>oldbalanceOrg</td>\n",
       "      <td>45203</td>\n",
       "      <td>0.043109</td>\n",
       "    </tr>\n",
       "    <tr>\n",
       "      <th>2</th>\n",
       "      <td>0.999934</td>\n",
       "      <td>0.000066</td>\n",
       "      <td>newbalanceOrig</td>\n",
       "      <td>45698</td>\n",
       "      <td>0.043581</td>\n",
       "    </tr>\n",
       "    <tr>\n",
       "      <th>3</th>\n",
       "      <td>0.999480</td>\n",
       "      <td>0.000520</td>\n",
       "      <td>oldbalanceDest</td>\n",
       "      <td>40402</td>\n",
       "      <td>0.038530</td>\n",
       "    </tr>\n",
       "    <tr>\n",
       "      <th>4</th>\n",
       "      <td>0.998491</td>\n",
       "      <td>0.001509</td>\n",
       "      <td>newbalanceDest</td>\n",
       "      <td>41751</td>\n",
       "      <td>0.039817</td>\n",
       "    </tr>\n",
       "  </tbody>\n",
       "</table>\n",
       "</div>"
      ],
      "text/plain": [
       "          0         1        variable sum_outlier_values  \\\n",
       "          0         1                                      \n",
       "0  0.986908  0.013092          amount              32081   \n",
       "1  0.998938  0.001062   oldbalanceOrg              45203   \n",
       "2  0.999934  0.000066  newbalanceOrig              45698   \n",
       "3  0.999480  0.000520  oldbalanceDest              40402   \n",
       "4  0.998491  0.001509  newbalanceDest              41751   \n",
       "\n",
       "  porcentaje_sum_null_values  \n",
       "                              \n",
       "0                   0.030595  \n",
       "1                   0.043109  \n",
       "2                   0.043581  \n",
       "3                   0.038530  \n",
       "4                   0.039817  "
      ]
     },
     "execution_count": 15,
     "metadata": {},
     "output_type": "execute_result"
    }
   ],
   "source": [
    "get_deviation_of_mean_perc(data, list_numerical_variables, target='isFraud', multiplier = 2)"
   ]
  },
  {
   "cell_type": "markdown",
   "id": "315542aa",
   "metadata": {},
   "source": [
    "## 6. Verification of our variable target (isFraud)"
   ]
  },
  {
   "cell_type": "code",
   "execution_count": 16,
   "id": "cc7ac4ae",
   "metadata": {},
   "outputs": [
    {
     "data": {
      "text/html": [
       "<div>\n",
       "<style scoped>\n",
       "    .dataframe tbody tr th:only-of-type {\n",
       "        vertical-align: middle;\n",
       "    }\n",
       "\n",
       "    .dataframe tbody tr th {\n",
       "        vertical-align: top;\n",
       "    }\n",
       "\n",
       "    .dataframe thead th {\n",
       "        text-align: right;\n",
       "    }\n",
       "</style>\n",
       "<table border=\"1\" class=\"dataframe\">\n",
       "  <thead>\n",
       "    <tr style=\"text-align: right;\">\n",
       "      <th></th>\n",
       "      <th>index</th>\n",
       "      <th>percentage</th>\n",
       "      <th>quantity</th>\n",
       "    </tr>\n",
       "  </thead>\n",
       "  <tbody>\n",
       "    <tr>\n",
       "      <th>0</th>\n",
       "      <td>0</td>\n",
       "      <td>99.89</td>\n",
       "      <td>1047433</td>\n",
       "    </tr>\n",
       "    <tr>\n",
       "      <th>1</th>\n",
       "      <td>1</td>\n",
       "      <td>0.11</td>\n",
       "      <td>1142</td>\n",
       "    </tr>\n",
       "  </tbody>\n",
       "</table>\n",
       "</div>"
      ],
      "text/plain": [
       "   index  percentage  quantity\n",
       "0      0       99.89   1047433\n",
       "1      1        0.11      1142"
      ]
     },
     "execution_count": 16,
     "metadata": {},
     "output_type": "execute_result"
    }
   ],
   "source": [
    "# Verificamos el comportamiento de la variable objetivo dentro de nuestro dataset para identificar como se procederan a \n",
    "# dividir el set de datos de training y el de test\n",
    "data_percentage=data.isFraud.value_counts(normalize=True).rename(\"percentage\").mul(100).reset_index().round(2)\n",
    "data_quantity=data.isFraud.value_counts().rename(\"quantity\").reset_index()\n",
    "\n",
    "data_isFraud=pd.merge(data_percentage, data_quantity, how= \"inner\", on=[\"index\"])\n",
    "data_isFraud=pd.DataFrame(data_isFraud)\n",
    "data_isFraud"
   ]
  },
  {
   "cell_type": "code",
   "execution_count": 17,
   "id": "036052a0",
   "metadata": {},
   "outputs": [
    {
     "data": {
      "text/plain": [
       "Text(0.5, 1.05, 'Distribution Target Variable')"
      ]
     },
     "execution_count": 17,
     "metadata": {},
     "output_type": "execute_result"
    },
    {
     "data": {
      "image/png": "[encoded data removed]",
      "text/plain": [
       "<Figure size 500x500 with 1 Axes>"
      ]
     },
     "metadata": {},
     "output_type": "display_data"
    }
   ],
   "source": [
    "graph=sns.catplot(data=data_isFraud, x=\"index\", y=\"percentage\", kind=\"bar\")\n",
    "graph.set(xlabel=\"Is Fraud? (No/Yes)\")\n",
    "graph.fig.suptitle(\"Distribution Target Variable\", y=1.05)"
   ]
  },
  {
   "cell_type": "markdown",
   "id": "1d3da506",
   "metadata": {},
   "source": [
    "In the created plot, 0 represented the times that a transaction it was not a fraud and 1 the times that was fraud.\n",
    "The dataset is completely unbalanced, since our target variable isFraud, being the not fraud variables in the 99.89% of the cases."
   ]
  },
  {
   "cell_type": "markdown",
   "id": "621ae020",
   "metadata": {},
   "source": [
    "## 7. Behaviour of our variables"
   ]
  },
  {
   "cell_type": "markdown",
   "id": "a2a238f5",
   "metadata": {},
   "source": [
    "Verification of the behaviour of our variables and compare them with the target variable. "
   ]
  },
  {
   "cell_type": "markdown",
   "id": "8dc3a50f",
   "metadata": {},
   "source": [
    "### -Age "
   ]
  },
  {
   "cell_type": "code",
   "execution_count": 18,
   "id": "a101ffde",
   "metadata": {},
   "outputs": [
    {
     "data": {
      "text/plain": [
       "Text(0.5, 1.0, 'Behaviour of the variable age in relationship with Fraud')"
      ]
     },
     "execution_count": 18,
     "metadata": {},
     "output_type": "execute_result"
    },
    {
     "data": {
      "image/png": "[encoded data removed]",
      "text/plain": [
       "<Figure size 1080x270 with 2 Axes>"
      ]
     },
     "metadata": {},
     "output_type": "display_data"
    }
   ],
   "source": [
    "# Analisis de la variable de edad\n",
    "f, (ax1, ax2) = plt.subplots(nrows=1, ncols=2, figsize=(12,3), dpi=90)\n",
    "sns.histplot(data=data, x='age', binwidth=10, ax=ax1)\n",
    "sns.boxplot(x='isFraud', y='age', data=data, ax=ax2,)\n",
    "ax1.set_title(\"Distribution in relationship with age variable\")\n",
    "ax2.set_title(\"Behaviour of the variable age in relationship with Fraud\")"
   ]
  },
  {
   "cell_type": "code",
   "execution_count": 19,
   "id": "79b7d3ff",
   "metadata": {},
   "outputs": [
    {
     "data": {
      "text/html": [
       "<div>\n",
       "<style scoped>\n",
       "    .dataframe tbody tr th:only-of-type {\n",
       "        vertical-align: middle;\n",
       "    }\n",
       "\n",
       "    .dataframe tbody tr th {\n",
       "        vertical-align: top;\n",
       "    }\n",
       "\n",
       "    .dataframe thead th {\n",
       "        text-align: right;\n",
       "    }\n",
       "</style>\n",
       "<table border=\"1\" class=\"dataframe\">\n",
       "  <thead>\n",
       "    <tr style=\"text-align: right;\">\n",
       "      <th></th>\n",
       "      <th>age</th>\n",
       "    </tr>\n",
       "    <tr>\n",
       "      <th>age</th>\n",
       "      <th></th>\n",
       "    </tr>\n",
       "  </thead>\n",
       "  <tbody>\n",
       "    <tr>\n",
       "      <th>5</th>\n",
       "      <td>11055</td>\n",
       "    </tr>\n",
       "    <tr>\n",
       "      <th>6</th>\n",
       "      <td>10843</td>\n",
       "    </tr>\n",
       "    <tr>\n",
       "      <th>7</th>\n",
       "      <td>11088</td>\n",
       "    </tr>\n",
       "    <tr>\n",
       "      <th>8</th>\n",
       "      <td>10980</td>\n",
       "    </tr>\n",
       "    <tr>\n",
       "      <th>9</th>\n",
       "      <td>10830</td>\n",
       "    </tr>\n",
       "  </tbody>\n",
       "</table>\n",
       "</div>"
      ],
      "text/plain": [
       "       age\n",
       "age       \n",
       "5    11055\n",
       "6    10843\n",
       "7    11088\n",
       "8    10980\n",
       "9    10830"
      ]
     },
     "execution_count": 19,
     "metadata": {},
     "output_type": "execute_result"
    }
   ],
   "source": [
    "data.age.groupby(data.age).count().to_frame().head(5)"
   ]
  },
  {
   "cell_type": "markdown",
   "id": "61ad3625",
   "metadata": {},
   "source": [
    "The age not represented more impact with our target variable. "
   ]
  },
  {
   "cell_type": "markdown",
   "id": "c4b65056",
   "metadata": {},
   "source": [
    "### -Type"
   ]
  },
  {
   "cell_type": "code",
   "execution_count": 20,
   "id": "5a5d485f",
   "metadata": {},
   "outputs": [
    {
     "data": {
      "text/plain": [
       "Text(0.5, 1.0, 'Behaviour of the variable type in relationship with Fraud')"
      ]
     },
     "execution_count": 20,
     "metadata": {},
     "output_type": "execute_result"
    },
    {
     "data": {
      "image/png": "[encoded data removed]",
      "text/plain": [
       "<Figure size 1080x270 with 2 Axes>"
      ]
     },
     "metadata": {},
     "output_type": "display_data"
    }
   ],
   "source": [
    "# Analisis de la variable de type\n",
    "f, (ax1, ax2) = plt.subplots(nrows=1, ncols=2, figsize=(12,3), dpi=90)\n",
    "sns.histplot(data=data, x='type', binwidth=10, ax=ax1)\n",
    "sns.boxplot(x='isFraud', y='type', data=data, ax=ax2,)\n",
    "ax1.set_title(\"Distribution in relationship with type variable\")\n",
    "ax2.set_title(\"Behaviour of the variable type in relationship with Fraud\")"
   ]
  },
  {
   "cell_type": "code",
   "execution_count": 21,
   "id": "014a6e03",
   "metadata": {},
   "outputs": [
    {
     "data": {
      "text/html": [
       "<div>\n",
       "<style scoped>\n",
       "    .dataframe tbody tr th:only-of-type {\n",
       "        vertical-align: middle;\n",
       "    }\n",
       "\n",
       "    .dataframe tbody tr th {\n",
       "        vertical-align: top;\n",
       "    }\n",
       "\n",
       "    .dataframe thead th {\n",
       "        text-align: right;\n",
       "    }\n",
       "</style>\n",
       "<table border=\"1\" class=\"dataframe\">\n",
       "  <thead>\n",
       "    <tr style=\"text-align: right;\">\n",
       "      <th></th>\n",
       "      <th>type</th>\n",
       "      <th>noFraud</th>\n",
       "      <th>yesFraud</th>\n",
       "    </tr>\n",
       "  </thead>\n",
       "  <tbody>\n",
       "    <tr>\n",
       "      <th>0</th>\n",
       "      <td>CASH_IN</td>\n",
       "      <td>227130</td>\n",
       "      <td>0</td>\n",
       "    </tr>\n",
       "    <tr>\n",
       "      <th>1</th>\n",
       "      <td>CASH_OUT</td>\n",
       "      <td>373063</td>\n",
       "      <td>578</td>\n",
       "    </tr>\n",
       "    <tr>\n",
       "      <th>2</th>\n",
       "      <td>DEBIT</td>\n",
       "      <td>7178</td>\n",
       "      <td>0</td>\n",
       "    </tr>\n",
       "    <tr>\n",
       "      <th>3</th>\n",
       "      <td>PAYMENT</td>\n",
       "      <td>353873</td>\n",
       "      <td>0</td>\n",
       "    </tr>\n",
       "    <tr>\n",
       "      <th>4</th>\n",
       "      <td>TRANSFER</td>\n",
       "      <td>86189</td>\n",
       "      <td>564</td>\n",
       "    </tr>\n",
       "  </tbody>\n",
       "</table>\n",
       "</div>"
      ],
      "text/plain": [
       "       type  noFraud  yesFraud\n",
       "0   CASH_IN   227130         0\n",
       "1  CASH_OUT   373063       578\n",
       "2     DEBIT     7178         0\n",
       "3   PAYMENT   353873         0\n",
       "4  TRANSFER    86189       564"
      ]
     },
     "execution_count": 21,
     "metadata": {},
     "output_type": "execute_result"
    }
   ],
   "source": [
    "data_noFraud=data.loc[(data['isFraud'] == 0),['isFraud','type']].groupby('type').count().reset_index().set_axis([\"type\",\"noFraud\"],axis=1)\n",
    "data_yesFraud=data.loc[(data['isFraud'] == 1),['isFraud','type']].groupby('type').count().reset_index().set_axis([\"type\",\"yesFraud\"],axis=1)\n",
    "type(data_noFraud)\n",
    "data_Fraud_type=pd.merge(data_noFraud,data_yesFraud, how= \"left\", on=[\"type\"])\n",
    "data_Fraud_type"
   ]
  },
  {
   "cell_type": "markdown",
   "id": "292721ea",
   "metadata": {},
   "source": [
    "Only the transactions \"cash_out\" and \"transfer\" are those that were classified as fraud, the other types of transactions were not fraudulent. This variable has an important impact on the fraud."
   ]
  },
  {
   "cell_type": "markdown",
   "id": "16afdda6",
   "metadata": {},
   "source": [
    "### -Device "
   ]
  },
  {
   "cell_type": "code",
   "execution_count": 22,
   "id": "eefa8d50",
   "metadata": {},
   "outputs": [
    {
     "data": {
      "text/plain": [
       "Text(0.5, 1.0, 'Behaviour of the variable device in relationship with Fraud')"
      ]
     },
     "execution_count": 22,
     "metadata": {},
     "output_type": "execute_result"
    },
    {
     "data": {
      "image/png": "[encoded data removed]",
      "text/plain": [
       "<Figure size 1080x270 with 2 Axes>"
      ]
     },
     "metadata": {},
     "output_type": "display_data"
    }
   ],
   "source": [
    "# Analysis of the variable device\n",
    "f, (ax1, ax2) = plt.subplots(nrows=1, ncols=2, figsize=(12,3), dpi=90)\n",
    "sns.histplot(data=data, x='device', ax=ax1, stat='count')\n",
    "sns.countplot(x='device', data=data, hue='isFraud', ax=ax2)\n",
    "ax1.set_title(\"Distribution in relationship with device variable\")\n",
    "ax2.set_title(\"Behaviour of the variable device in relationship with Fraud\")"
   ]
  },
  {
   "cell_type": "code",
   "execution_count": 23,
   "id": "5ceb1de8",
   "metadata": {},
   "outputs": [
    {
     "data": {
      "text/html": [
       "<div>\n",
       "<style scoped>\n",
       "    .dataframe tbody tr th:only-of-type {\n",
       "        vertical-align: middle;\n",
       "    }\n",
       "\n",
       "    .dataframe tbody tr th {\n",
       "        vertical-align: top;\n",
       "    }\n",
       "\n",
       "    .dataframe thead th {\n",
       "        text-align: right;\n",
       "    }\n",
       "</style>\n",
       "<table border=\"1\" class=\"dataframe\">\n",
       "  <thead>\n",
       "    <tr style=\"text-align: right;\">\n",
       "      <th></th>\n",
       "      <th>device</th>\n",
       "      <th>noFraud</th>\n",
       "      <th>yesFraud</th>\n",
       "    </tr>\n",
       "  </thead>\n",
       "  <tbody>\n",
       "    <tr>\n",
       "      <th>0</th>\n",
       "      <td>iphone</td>\n",
       "      <td>261767</td>\n",
       "      <td>295</td>\n",
       "    </tr>\n",
       "    <tr>\n",
       "      <th>1</th>\n",
       "      <td>mac</td>\n",
       "      <td>366677</td>\n",
       "      <td>389</td>\n",
       "    </tr>\n",
       "    <tr>\n",
       "      <th>2</th>\n",
       "      <td>pc</td>\n",
       "      <td>314528</td>\n",
       "      <td>339</td>\n",
       "    </tr>\n",
       "  </tbody>\n",
       "</table>\n",
       "</div>"
      ],
      "text/plain": [
       "   device  noFraud  yesFraud\n",
       "0  iphone   261767       295\n",
       "1     mac   366677       389\n",
       "2      pc   314528       339"
      ]
     },
     "execution_count": 23,
     "metadata": {},
     "output_type": "execute_result"
    }
   ],
   "source": [
    "data_noFraud=data.loc[(data['isFraud'] == 0),['isFraud','device']].groupby('device').count().reset_index().set_axis([\"device\",\"noFraud\"],axis=1)\n",
    "data_yesFraud=data.loc[(data['isFraud'] == 1),['isFraud','device']].groupby('device').count().reset_index().set_axis([\"device\",\"yesFraud\"],axis=1)\n",
    "data_Fraud_device=pd.merge(data_noFraud,data_yesFraud, how= \"inner\", on=[\"device\"])\n",
    "data_Fraud_device"
   ]
  },
  {
   "cell_type": "markdown",
   "id": "b3acb530",
   "metadata": {},
   "source": [
    "The table created shows that there isn´t much difference between the devices where the transaction was made and whether the type of transaction was fraud or not."
   ]
  },
  {
   "cell_type": "markdown",
   "id": "94ea611e",
   "metadata": {},
   "source": [
    "### -Zone"
   ]
  },
  {
   "cell_type": "code",
   "execution_count": 24,
   "id": "e4631595",
   "metadata": {},
   "outputs": [
    {
     "data": {
      "text/plain": [
       "Text(0.5, 1.0, 'Behaviour of the variable zone in relationship with Fraud')"
      ]
     },
     "execution_count": 24,
     "metadata": {},
     "output_type": "execute_result"
    },
    {
     "data": {
      "image/png": "[encoded data removed]",
      "text/plain": [
       "<Figure size 1080x270 with 2 Axes>"
      ]
     },
     "metadata": {},
     "output_type": "display_data"
    }
   ],
   "source": [
    "# Analysis of the variable zone\n",
    "f, (ax1, ax2) = plt.subplots(nrows=1, ncols=2, figsize=(12,3), dpi=90)\n",
    "sns.histplot(data=data, x='zone', ax=ax1, stat='count')\n",
    "sns.countplot(x='zone', data=data, hue='isFraud', ax=ax2)\n",
    "ax1.set_title(\"Distribution in relationship with zone variable\")\n",
    "ax2.set_title(\"Behaviour of the variable zone in relationship with Fraud\")"
   ]
  },
  {
   "cell_type": "code",
   "execution_count": 25,
   "id": "a2dcfcd1",
   "metadata": {},
   "outputs": [
    {
     "data": {
      "text/html": [
       "<div>\n",
       "<style scoped>\n",
       "    .dataframe tbody tr th:only-of-type {\n",
       "        vertical-align: middle;\n",
       "    }\n",
       "\n",
       "    .dataframe tbody tr th {\n",
       "        vertical-align: top;\n",
       "    }\n",
       "\n",
       "    .dataframe thead th {\n",
       "        text-align: right;\n",
       "    }\n",
       "</style>\n",
       "<table border=\"1\" class=\"dataframe\">\n",
       "  <thead>\n",
       "    <tr style=\"text-align: right;\">\n",
       "      <th></th>\n",
       "      <th>zone</th>\n",
       "      <th>noFraud</th>\n",
       "      <th>yesFraud</th>\n",
       "    </tr>\n",
       "  </thead>\n",
       "  <tbody>\n",
       "    <tr>\n",
       "      <th>0</th>\n",
       "      <td>africa</td>\n",
       "      <td>313670</td>\n",
       "      <td>356</td>\n",
       "    </tr>\n",
       "    <tr>\n",
       "      <th>1</th>\n",
       "      <td>capital</td>\n",
       "      <td>261845</td>\n",
       "      <td>286</td>\n",
       "    </tr>\n",
       "    <tr>\n",
       "      <th>2</th>\n",
       "      <td>country</td>\n",
       "      <td>367617</td>\n",
       "      <td>387</td>\n",
       "    </tr>\n",
       "  </tbody>\n",
       "</table>\n",
       "</div>"
      ],
      "text/plain": [
       "      zone  noFraud  yesFraud\n",
       "0   africa   313670       356\n",
       "1  capital   261845       286\n",
       "2  country   367617       387"
      ]
     },
     "execution_count": 25,
     "metadata": {},
     "output_type": "execute_result"
    }
   ],
   "source": [
    "data_noFraud=data.loc[(data['isFraud'] == 0),['isFraud','zone']].groupby('zone').count().reset_index().set_axis([\"zone\",\"noFraud\"],axis=1)\n",
    "data_yesFraud=data.loc[(data['isFraud'] == 1),['isFraud','zone']].groupby('zone').count().reset_index().set_axis([\"zone\",\"yesFraud\"],axis=1)\n",
    "data_Fraud_zone=pd.merge(data_noFraud,data_yesFraud, how= \"inner\", on=[\"zone\"])\n",
    "data_Fraud_zone"
   ]
  },
  {
   "cell_type": "markdown",
   "id": "d2f61e73",
   "metadata": {},
   "source": [
    "In the table created we can observe that there aren´t more difference in the zone where realized the transaction, because probably this variable don´t have much impact in the later analysis.  "
   ]
  },
  {
   "cell_type": "markdown",
   "id": "d65dcdd0",
   "metadata": {},
   "source": [
    "We can observe that the gender, race, device and zone variables have null values but they haven´t more impact in the fraud. "
   ]
  },
  {
   "cell_type": "markdown",
   "id": "158c37a2",
   "metadata": {},
   "source": [
    "## 8. Study of Correlation"
   ]
  },
  {
   "cell_type": "markdown",
   "id": "9fec305b",
   "metadata": {},
   "source": [
    "### -Correlation Matrix "
   ]
  },
  {
   "cell_type": "code",
   "execution_count": 26,
   "id": "7dc479f0",
   "metadata": {},
   "outputs": [
    {
     "data": {
      "text/html": [
       "<div>\n",
       "<style scoped>\n",
       "    .dataframe tbody tr th:only-of-type {\n",
       "        vertical-align: middle;\n",
       "    }\n",
       "\n",
       "    .dataframe tbody tr th {\n",
       "        vertical-align: top;\n",
       "    }\n",
       "\n",
       "    .dataframe thead th {\n",
       "        text-align: right;\n",
       "    }\n",
       "</style>\n",
       "<table border=\"1\" class=\"dataframe\">\n",
       "  <thead>\n",
       "    <tr style=\"text-align: right;\">\n",
       "      <th></th>\n",
       "      <th>step</th>\n",
       "      <th>amount</th>\n",
       "      <th>connection_time</th>\n",
       "      <th>oldbalanceOrg</th>\n",
       "      <th>age</th>\n",
       "      <th>newbalanceOrig</th>\n",
       "      <th>user_number</th>\n",
       "      <th>user_connections</th>\n",
       "      <th>security_alert</th>\n",
       "      <th>oldbalanceDest</th>\n",
       "      <th>newbalanceDest</th>\n",
       "      <th>isFraud</th>\n",
       "    </tr>\n",
       "  </thead>\n",
       "  <tbody>\n",
       "    <tr>\n",
       "      <th>step</th>\n",
       "      <td>1.000000</td>\n",
       "      <td>-0.025996</td>\n",
       "      <td>0.001068</td>\n",
       "      <td>-0.006782</td>\n",
       "      <td>0.000201</td>\n",
       "      <td>-0.007182</td>\n",
       "      <td>-0.000356</td>\n",
       "      <td>-0.000140</td>\n",
       "      <td>-0.001313</td>\n",
       "      <td>-0.002251</td>\n",
       "      <td>-0.019502</td>\n",
       "      <td>0.045030</td>\n",
       "    </tr>\n",
       "    <tr>\n",
       "      <th>amount</th>\n",
       "      <td>-0.025996</td>\n",
       "      <td>1.000000</td>\n",
       "      <td>0.001755</td>\n",
       "      <td>0.004864</td>\n",
       "      <td>0.000076</td>\n",
       "      <td>-0.001132</td>\n",
       "      <td>0.001476</td>\n",
       "      <td>0.000579</td>\n",
       "      <td>-0.000490</td>\n",
       "      <td>0.215562</td>\n",
       "      <td>0.311942</td>\n",
       "      <td>0.128862</td>\n",
       "    </tr>\n",
       "    <tr>\n",
       "      <th>connection_time</th>\n",
       "      <td>0.001068</td>\n",
       "      <td>0.001755</td>\n",
       "      <td>1.000000</td>\n",
       "      <td>-0.001279</td>\n",
       "      <td>0.001739</td>\n",
       "      <td>-0.001342</td>\n",
       "      <td>-0.000450</td>\n",
       "      <td>0.000466</td>\n",
       "      <td>-0.520283</td>\n",
       "      <td>-0.000199</td>\n",
       "      <td>-0.000029</td>\n",
       "      <td>0.000290</td>\n",
       "    </tr>\n",
       "    <tr>\n",
       "      <th>oldbalanceOrg</th>\n",
       "      <td>-0.006782</td>\n",
       "      <td>0.004864</td>\n",
       "      <td>-0.001279</td>\n",
       "      <td>1.000000</td>\n",
       "      <td>0.000155</td>\n",
       "      <td>0.999050</td>\n",
       "      <td>0.000379</td>\n",
       "      <td>-0.001799</td>\n",
       "      <td>0.000091</td>\n",
       "      <td>0.093305</td>\n",
       "      <td>0.064050</td>\n",
       "      <td>0.003829</td>\n",
       "    </tr>\n",
       "    <tr>\n",
       "      <th>age</th>\n",
       "      <td>0.000201</td>\n",
       "      <td>0.000076</td>\n",
       "      <td>0.001739</td>\n",
       "      <td>0.000155</td>\n",
       "      <td>1.000000</td>\n",
       "      <td>0.000119</td>\n",
       "      <td>0.001168</td>\n",
       "      <td>0.000634</td>\n",
       "      <td>0.000363</td>\n",
       "      <td>0.000441</td>\n",
       "      <td>0.000377</td>\n",
       "      <td>0.000551</td>\n",
       "    </tr>\n",
       "    <tr>\n",
       "      <th>newbalanceOrig</th>\n",
       "      <td>-0.007182</td>\n",
       "      <td>-0.001132</td>\n",
       "      <td>-0.001342</td>\n",
       "      <td>0.999050</td>\n",
       "      <td>0.000119</td>\n",
       "      <td>1.000000</td>\n",
       "      <td>0.000351</td>\n",
       "      <td>-0.001844</td>\n",
       "      <td>0.000105</td>\n",
       "      <td>0.095179</td>\n",
       "      <td>0.063722</td>\n",
       "      <td>-0.009438</td>\n",
       "    </tr>\n",
       "    <tr>\n",
       "      <th>user_number</th>\n",
       "      <td>-0.000356</td>\n",
       "      <td>0.001476</td>\n",
       "      <td>-0.000450</td>\n",
       "      <td>0.000379</td>\n",
       "      <td>0.001168</td>\n",
       "      <td>0.000351</td>\n",
       "      <td>1.000000</td>\n",
       "      <td>-0.000554</td>\n",
       "      <td>-0.001604</td>\n",
       "      <td>-0.001038</td>\n",
       "      <td>-0.000588</td>\n",
       "      <td>-0.000821</td>\n",
       "    </tr>\n",
       "    <tr>\n",
       "      <th>user_connections</th>\n",
       "      <td>-0.000140</td>\n",
       "      <td>0.000579</td>\n",
       "      <td>0.000466</td>\n",
       "      <td>-0.001799</td>\n",
       "      <td>0.000634</td>\n",
       "      <td>-0.001844</td>\n",
       "      <td>-0.000554</td>\n",
       "      <td>1.000000</td>\n",
       "      <td>-0.000040</td>\n",
       "      <td>0.000902</td>\n",
       "      <td>0.001160</td>\n",
       "      <td>0.000764</td>\n",
       "    </tr>\n",
       "    <tr>\n",
       "      <th>security_alert</th>\n",
       "      <td>-0.001313</td>\n",
       "      <td>-0.000490</td>\n",
       "      <td>-0.520283</td>\n",
       "      <td>0.000091</td>\n",
       "      <td>0.000363</td>\n",
       "      <td>0.000105</td>\n",
       "      <td>-0.001604</td>\n",
       "      <td>-0.000040</td>\n",
       "      <td>1.000000</td>\n",
       "      <td>0.000824</td>\n",
       "      <td>0.000650</td>\n",
       "      <td>0.000265</td>\n",
       "    </tr>\n",
       "    <tr>\n",
       "      <th>oldbalanceDest</th>\n",
       "      <td>-0.002251</td>\n",
       "      <td>0.215562</td>\n",
       "      <td>-0.000199</td>\n",
       "      <td>0.093305</td>\n",
       "      <td>0.000441</td>\n",
       "      <td>0.095179</td>\n",
       "      <td>-0.001038</td>\n",
       "      <td>0.000902</td>\n",
       "      <td>0.000824</td>\n",
       "      <td>1.000000</td>\n",
       "      <td>0.978401</td>\n",
       "      <td>-0.007553</td>\n",
       "    </tr>\n",
       "    <tr>\n",
       "      <th>newbalanceDest</th>\n",
       "      <td>-0.019502</td>\n",
       "      <td>0.311942</td>\n",
       "      <td>-0.000029</td>\n",
       "      <td>0.064050</td>\n",
       "      <td>0.000377</td>\n",
       "      <td>0.063722</td>\n",
       "      <td>-0.000588</td>\n",
       "      <td>0.001160</td>\n",
       "      <td>0.000650</td>\n",
       "      <td>0.978401</td>\n",
       "      <td>1.000000</td>\n",
       "      <td>-0.000495</td>\n",
       "    </tr>\n",
       "    <tr>\n",
       "      <th>isFraud</th>\n",
       "      <td>0.045030</td>\n",
       "      <td>0.128862</td>\n",
       "      <td>0.000290</td>\n",
       "      <td>0.003829</td>\n",
       "      <td>0.000551</td>\n",
       "      <td>-0.009438</td>\n",
       "      <td>-0.000821</td>\n",
       "      <td>0.000764</td>\n",
       "      <td>0.000265</td>\n",
       "      <td>-0.007553</td>\n",
       "      <td>-0.000495</td>\n",
       "      <td>1.000000</td>\n",
       "    </tr>\n",
       "  </tbody>\n",
       "</table>\n",
       "</div>"
      ],
      "text/plain": [
       "                      step    amount  connection_time  oldbalanceOrg  \\\n",
       "step              1.000000 -0.025996         0.001068      -0.006782   \n",
       "amount           -0.025996  1.000000         0.001755       0.004864   \n",
       "connection_time   0.001068  0.001755         1.000000      -0.001279   \n",
       "oldbalanceOrg    -0.006782  0.004864        -0.001279       1.000000   \n",
       "age               0.000201  0.000076         0.001739       0.000155   \n",
       "newbalanceOrig   -0.007182 -0.001132        -0.001342       0.999050   \n",
       "user_number      -0.000356  0.001476        -0.000450       0.000379   \n",
       "user_connections -0.000140  0.000579         0.000466      -0.001799   \n",
       "security_alert   -0.001313 -0.000490        -0.520283       0.000091   \n",
       "oldbalanceDest   -0.002251  0.215562        -0.000199       0.093305   \n",
       "newbalanceDest   -0.019502  0.311942        -0.000029       0.064050   \n",
       "isFraud           0.045030  0.128862         0.000290       0.003829   \n",
       "\n",
       "                       age  newbalanceOrig  user_number  user_connections  \\\n",
       "step              0.000201       -0.007182    -0.000356         -0.000140   \n",
       "amount            0.000076       -0.001132     0.001476          0.000579   \n",
       "connection_time   0.001739       -0.001342    -0.000450          0.000466   \n",
       "oldbalanceOrg     0.000155        0.999050     0.000379         -0.001799   \n",
       "age               1.000000        0.000119     0.001168          0.000634   \n",
       "newbalanceOrig    0.000119        1.000000     0.000351         -0.001844   \n",
       "user_number       0.001168        0.000351     1.000000         -0.000554   \n",
       "user_connections  0.000634       -0.001844    -0.000554          1.000000   \n",
       "security_alert    0.000363        0.000105    -0.001604         -0.000040   \n",
       "oldbalanceDest    0.000441        0.095179    -0.001038          0.000902   \n",
       "newbalanceDest    0.000377        0.063722    -0.000588          0.001160   \n",
       "isFraud           0.000551       -0.009438    -0.000821          0.000764   \n",
       "\n",
       "                  security_alert  oldbalanceDest  newbalanceDest   isFraud  \n",
       "step                   -0.001313       -0.002251       -0.019502  0.045030  \n",
       "amount                 -0.000490        0.215562        0.311942  0.128862  \n",
       "connection_time        -0.520283       -0.000199       -0.000029  0.000290  \n",
       "oldbalanceOrg           0.000091        0.093305        0.064050  0.003829  \n",
       "age                     0.000363        0.000441        0.000377  0.000551  \n",
       "newbalanceOrig          0.000105        0.095179        0.063722 -0.009438  \n",
       "user_number            -0.001604       -0.001038       -0.000588 -0.000821  \n",
       "user_connections       -0.000040        0.000902        0.001160  0.000764  \n",
       "security_alert          1.000000        0.000824        0.000650  0.000265  \n",
       "oldbalanceDest          0.000824        1.000000        0.978401 -0.007553  \n",
       "newbalanceDest          0.000650        0.978401        1.000000 -0.000495  \n",
       "isFraud                 0.000265       -0.007553       -0.000495  1.000000  "
      ]
     },
     "execution_count": 26,
     "metadata": {},
     "output_type": "execute_result"
    }
   ],
   "source": [
    "data.corr()"
   ]
  },
  {
   "cell_type": "markdown",
   "id": "70ab81aa",
   "metadata": {},
   "source": [
    "### -Heatmap "
   ]
  },
  {
   "cell_type": "code",
   "execution_count": 27,
   "id": "299567d1",
   "metadata": {},
   "outputs": [
    {
     "data": {
      "text/plain": [
       "<AxesSubplot:>"
      ]
     },
     "execution_count": 27,
     "metadata": {},
     "output_type": "execute_result"
    },
    {
     "data": {
      "image/png": "[encoded data removed]",
      "text/plain": [
       "<Figure size 640x480 with 2 Axes>"
      ]
     },
     "metadata": {},
     "output_type": "display_data"
    }
   ],
   "source": [
    "sns.heatmap(data.corr())"
   ]
  },
  {
   "cell_type": "markdown",
   "id": "61c58935",
   "metadata": {},
   "source": [
    "### -Spearman"
   ]
  },
  {
   "cell_type": "code",
   "execution_count": 28,
   "id": "8e2e3506",
   "metadata": {},
   "outputs": [
    {
     "data": {
      "text/html": [
       "<div>\n",
       "<style scoped>\n",
       "    .dataframe tbody tr th:only-of-type {\n",
       "        vertical-align: middle;\n",
       "    }\n",
       "\n",
       "    .dataframe tbody tr th {\n",
       "        vertical-align: top;\n",
       "    }\n",
       "\n",
       "    .dataframe thead th {\n",
       "        text-align: right;\n",
       "    }\n",
       "</style>\n",
       "<table border=\"1\" class=\"dataframe\">\n",
       "  <thead>\n",
       "    <tr style=\"text-align: right;\">\n",
       "      <th></th>\n",
       "      <th>level_0</th>\n",
       "      <th>level_1</th>\n",
       "      <th>correlation</th>\n",
       "    </tr>\n",
       "  </thead>\n",
       "  <tbody>\n",
       "    <tr>\n",
       "      <th>20</th>\n",
       "      <td>newbalanceOrig</td>\n",
       "      <td>oldbalanceOrg</td>\n",
       "      <td>0.999050</td>\n",
       "    </tr>\n",
       "    <tr>\n",
       "      <th>34</th>\n",
       "      <td>newbalanceDest</td>\n",
       "      <td>oldbalanceDest</td>\n",
       "      <td>0.978401</td>\n",
       "    </tr>\n",
       "  </tbody>\n",
       "</table>\n",
       "</div>"
      ],
      "text/plain": [
       "           level_0         level_1  correlation\n",
       "20  newbalanceOrig   oldbalanceOrg     0.999050\n",
       "34  newbalanceDest  oldbalanceDest     0.978401"
      ]
     },
     "execution_count": 28,
     "metadata": {},
     "output_type": "execute_result"
    }
   ],
   "source": [
    "corr = data[list_numerical_variables].corr('pearson')\n",
    "new_corr = corr.abs()\n",
    "new_corr.loc[:,:] = np.tril(new_corr, k=-1)\n",
    "new_corr = new_corr.stack().to_frame('correlation').reset_index().sort_values(by='correlation', ascending=False)\n",
    "new_corr[new_corr['correlation']>0.6]"
   ]
  },
  {
   "cell_type": "code",
   "execution_count": 29,
   "id": "027ecf3f",
   "metadata": {},
   "outputs": [
    {
     "data": {
      "text/html": [
       "<div>\n",
       "<style scoped>\n",
       "    .dataframe tbody tr th:only-of-type {\n",
       "        vertical-align: middle;\n",
       "    }\n",
       "\n",
       "    .dataframe tbody tr th {\n",
       "        vertical-align: top;\n",
       "    }\n",
       "\n",
       "    .dataframe thead th {\n",
       "        text-align: right;\n",
       "    }\n",
       "</style>\n",
       "<table border=\"1\" class=\"dataframe\">\n",
       "  <thead>\n",
       "    <tr style=\"text-align: right;\">\n",
       "      <th></th>\n",
       "      <th>step</th>\n",
       "      <th>connection_time</th>\n",
       "      <th>age</th>\n",
       "      <th>user_number</th>\n",
       "      <th>user_connections</th>\n",
       "      <th>amount</th>\n",
       "      <th>oldbalanceOrg</th>\n",
       "      <th>newbalanceOrig</th>\n",
       "      <th>oldbalanceDest</th>\n",
       "      <th>newbalanceDest</th>\n",
       "    </tr>\n",
       "  </thead>\n",
       "  <tbody>\n",
       "    <tr>\n",
       "      <th>0</th>\n",
       "      <td>1</td>\n",
       "      <td>0.140039</td>\n",
       "      <td>85</td>\n",
       "      <td>138</td>\n",
       "      <td>5</td>\n",
       "      <td>9839.64</td>\n",
       "      <td>170136.0</td>\n",
       "      <td>160296.36</td>\n",
       "      <td>0.0</td>\n",
       "      <td>0.0</td>\n",
       "    </tr>\n",
       "    <tr>\n",
       "      <th>1</th>\n",
       "      <td>1</td>\n",
       "      <td>0.496890</td>\n",
       "      <td>57</td>\n",
       "      <td>909</td>\n",
       "      <td>1</td>\n",
       "      <td>1864.28</td>\n",
       "      <td>21249.0</td>\n",
       "      <td>19384.72</td>\n",
       "      <td>0.0</td>\n",
       "      <td>0.0</td>\n",
       "    </tr>\n",
       "    <tr>\n",
       "      <th>2</th>\n",
       "      <td>1</td>\n",
       "      <td>0.781150</td>\n",
       "      <td>66</td>\n",
       "      <td>2569</td>\n",
       "      <td>10</td>\n",
       "      <td>181.00</td>\n",
       "      <td>181.0</td>\n",
       "      <td>0.00</td>\n",
       "      <td>0.0</td>\n",
       "      <td>0.0</td>\n",
       "    </tr>\n",
       "    <tr>\n",
       "      <th>3</th>\n",
       "      <td>1</td>\n",
       "      <td>0.565068</td>\n",
       "      <td>31</td>\n",
       "      <td>1787</td>\n",
       "      <td>3</td>\n",
       "      <td>181.00</td>\n",
       "      <td>181.0</td>\n",
       "      <td>0.00</td>\n",
       "      <td>21182.0</td>\n",
       "      <td>0.0</td>\n",
       "    </tr>\n",
       "    <tr>\n",
       "      <th>4</th>\n",
       "      <td>1</td>\n",
       "      <td>0.517114</td>\n",
       "      <td>90</td>\n",
       "      <td>3997</td>\n",
       "      <td>8</td>\n",
       "      <td>11668.14</td>\n",
       "      <td>41554.0</td>\n",
       "      <td>29885.86</td>\n",
       "      <td>0.0</td>\n",
       "      <td>0.0</td>\n",
       "    </tr>\n",
       "  </tbody>\n",
       "</table>\n",
       "</div>"
      ],
      "text/plain": [
       "   step  connection_time  age  user_number  user_connections    amount  \\\n",
       "0     1         0.140039   85          138                 5   9839.64   \n",
       "1     1         0.496890   57          909                 1   1864.28   \n",
       "2     1         0.781150   66         2569                10    181.00   \n",
       "3     1         0.565068   31         1787                 3    181.00   \n",
       "4     1         0.517114   90         3997                 8  11668.14   \n",
       "\n",
       "   oldbalanceOrg  newbalanceOrig  oldbalanceDest  newbalanceDest  \n",
       "0       170136.0       160296.36             0.0             0.0  \n",
       "1        21249.0        19384.72             0.0             0.0  \n",
       "2          181.0            0.00             0.0             0.0  \n",
       "3          181.0            0.00         21182.0             0.0  \n",
       "4        41554.0        29885.86             0.0             0.0  "
      ]
     },
     "execution_count": 29,
     "metadata": {},
     "output_type": "execute_result"
    }
   ],
   "source": [
    "data_continous_variables = data [['step','connection_time','age', 'user_number', \n",
    "                                  'user_connections', 'amount','oldbalanceOrg', \n",
    "                                  'newbalanceOrig', 'oldbalanceDest', 'newbalanceDest']]\n",
    "data_continous_variables.head()"
   ]
  },
  {
   "cell_type": "code",
   "execution_count": 30,
   "id": "24555c69",
   "metadata": {},
   "outputs": [
    {
     "data": {
      "image/png": "[encoded data removed]",
      "text/plain": [
       "<Figure size 1000x800 with 2 Axes>"
      ]
     },
     "metadata": {},
     "output_type": "display_data"
    },
    {
     "data": {
      "text/plain": [
       "0"
      ]
     },
     "execution_count": 30,
     "metadata": {},
     "output_type": "execute_result"
    }
   ],
   "source": [
    "get_corr_matrix(dataset = data_continous_variables,\n",
    "                metodo = 'pearson', size_figure = [10,8])"
   ]
  },
  {
   "cell_type": "markdown",
   "id": "4c964a44",
   "metadata": {},
   "source": [
    "# 9. Save the created Dataset"
   ]
  },
  {
   "cell_type": "code",
   "execution_count": 31,
   "id": "3c3509bc",
   "metadata": {},
   "outputs": [],
   "source": [
    "path = '../data/processed/'\n",
    "new_file = 'new_dataset_fraud.parquet'\n",
    "\n",
    "data.to_parquet(path+new_file)"
   ]
  },
  {
   "cell_type": "markdown",
   "id": "ad5eacd7",
   "metadata": {},
   "source": [
    "# 10. Conclusions"
   ]
  },
  {
   "cell_type": "markdown",
   "id": "4eb5039a",
   "metadata": {},
   "source": [
    "To finish the study is necessary talk about this dataset, first of all, is **completely unbalanced**. Since our target variable, isFraud, being the not fraud variables in the **99.89% of the cases**. \n",
    "\n",
    "There are two columns that they are **gender and race**, that we drop it because is a **sensitive topic** in relation and compliance with **the law of the European Union (GDPR)**.\n",
    "\n",
    "In this dataset we observe there are **some outliers**, in the **four columns with more correlationship**, **newbalanceOrig-oldbalanceOrig** and **newbalanceDest-oldbalanceDest**, and also in the **column amount**.\n",
    "\n",
    "It´s probably that the variables nameOrig and nameDest will be transform, because the letters C and M, where **C matches with client and the letter M with merchant**, the number that follows the letter is an identification. \n",
    "\n",
    "For the variable **transaction type**, we have learn that **only Transfers and Cash outs** are the ones that **can be Fraud**."
   ]
  }
 ],
 "metadata": {
  "kernelspec": {
   "display_name": "machineLearning",
   "language": "python",
   "name": "machinelearning"
  },
  "language_info": {
   "codemirror_mode": {
    "name": "ipython",
    "version": 3
   },
   "file_extension": ".py",
   "mimetype": "text/x-python",
   "name": "python",
   "nbconvert_exporter": "python",
   "pygments_lexer": "ipython3",
   "version": "3.9.15"
  }
 },
 "nbformat": 4,
 "nbformat_minor": 5
}
